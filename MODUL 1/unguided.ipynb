{
 "cells": [
  {
   "cell_type": "code",
   "execution_count": 1,
   "metadata": {},
   "outputs": [
    {
     "name": "stdout",
     "output_type": "stream",
     "text": [
      "2 \n",
      "3 5 \n",
      "7 11 13 \n",
      "17 19 23 "
     ]
    }
   ],
   "source": [
    "# Fungsi untuk memeriksa apakah suatu bilangan adalah prima\n",
    "def is_prime(num):\n",
    "    if num < 2:\n",
    "        return False\n",
    "    for i in range(2, int(num**0.5) + 1):\n",
    "        if num % i == 0:\n",
    "            return False\n",
    "    return True\n",
    "\n",
    "# Fungsi untuk mencetak pola bilangan prima dengan batas tertentu\n",
    "def print_prime_pattern(limit):\n",
    "    prime_count = 0  # Menghitung jumlah bilangan prima yang telah ditemukan\n",
    "    num = 2  # Memulai pencarian bilangan prima dari angka 2\n",
    "\n",
    "    for row in range(1, limit+1):\n",
    "        # Cetak bilangan prima sebanyak 'row' buah di baris ini\n",
    "        for _ in range(row):\n",
    "            # Cari bilangan prima berikutnya\n",
    "            while not is_prime(num):\n",
    "                num += 1\n",
    "            # Tampilkan bilangan prima\n",
    "            print(num, end=' ')\n",
    "            num += 1  # Siapkan untuk bilangan prima berikutnya\n",
    "\n",
    "            prime_count += 1  # Hitung jumlah bilangan prima yang dicetak\n",
    "            if prime_count == 9:  # Berhenti jika sudah sampai bilangan prima ke-9 (yaitu 23)\n",
    "                return\n",
    "        print()  # Ganti baris setelah mencetak bilangan prima untuk baris ini\n",
    "\n",
    "# Menjalankan program hingga bilangan prima 23\n",
    "print_prime_pattern(5)\n",
    "# Khulika Malkan (2311110057)"
   ]
  },
  {
   "cell_type": "code",
   "execution_count": 2,
   "metadata": {},
   "outputs": [
    {
     "name": "stdout",
     "output_type": "stream",
     "text": [
      "[66, 65, 44, 43, 22, 21]\n"
     ]
    }
   ],
   "source": [
    "def ambil_ganjil_dan_urutkan(list1, list2):  \n",
    "    # Ambil elemen dengan indeks ganjil dari list1 dan list2\n",
    "    ganjil_list1 = [list1[i] for i in range(1, len(list1), 2)]  # Mengambil elemen dengan indeks ganjil dari list1\n",
    "    ganjil_list2 = [list2[i] for i in range(1, len(list2), 2)]  # Mengambil elemen dengan indeks ganjil dari lis2\n",
    "\n",
    "    # Menggabungkan elemen-elemen dari kedua daftar\n",
    "    gabungan = ganjil_list1 + ganjil_list2\n",
    "\n",
    "    # Mengurutkan daftar gabungan secara menurun\n",
    "    gabungan.sort(reverse=True)\n",
    "\n",
    "    return gabungan   # Mengembalikan daftar yang sudah diurutkan\n",
    "\n",
    "# Contoh penggunaan\n",
    "list1 = [10, 21, 32, 43, 54, 65]\n",
    "list2 = [11, 22, 33, 44, 55, 66]\n",
    "\n",
    "hasil = ambil_ganjil_dan_urutkan(list1, list2)\n",
    "print(hasil)\n",
    "# Khulika Malkan"
   ]
  },
  {
   "cell_type": "code",
   "execution_count": 27,
   "metadata": {},
   "outputs": [
    {
     "name": "stdout",
     "output_type": "stream",
     "text": [
      "PIN salah. Kesempatan tersisa: 2\n",
      "PIN salah. Kesempatan tersisa: 1\n",
      "PIN benar.\n",
      "\n",
      "Penarikan berhasil. Sisa saldo Anda: Rp 50000\n"
     ]
    }
   ],
   "source": [
    "# Simulasi ATM dengan penanganan PIN dan saldo\n",
    "def atm_simulasi():\n",
    "  # Deklarasi variabel utama\n",
    "    pin_terdaftar = \"1234\"  # PIN yang benar\n",
    "    saldo = 100000  # Saldo awal pengguna dalam rupiah\n",
    "    kesempatan_pin = 3  # Kesempatan memasukkan PIN\n",
    "\n",
    "    # Proses input PIN\n",
    "    while kesempatan_pin > 0:\n",
    "        pin_input = input(\"Masukkan PIN Anda: \")\n",
    "        if pin_input == pin_terdaftar:\n",
    "            print(\"PIN benar.\\n\")\n",
    "            break  # Keluar dari loop jika PIN benar\n",
    "        else:\n",
    "            kesempatan_pin -= 1\n",
    "            print(f\"PIN salah. Kesempatan tersisa: {kesempatan_pin}\")\n",
    "            if kesempatan_pin == 0:\n",
    "                print(\"Anda telah gagal memasukkan PIN 3 kali. Akun diblokir.\")\n",
    "                return  # Keluar dari fungsi jika kesempatan habis\n",
    "\n",
    "    # Proses penarikan Uang\n",
    "    while True:\n",
    "        try:\n",
    "            penarikan = int(input(\"Masukkan jumlah penarikan: \"))\n",
    "\n",
    "            if penarikan <= 0:\n",
    "                print(\"Jumlah penarikan harus lebih dari nol.\")\n",
    "                continue\n",
    "\n",
    "            if penarikan > saldo:\n",
    "                print(\"Saldo tidak mencukupi. Silakan masukkan jumlah yang lebih kecil.\")\n",
    "            else:\n",
    "                saldo -= penarikan\n",
    "                print(f\"Penarikan berhasil. Sisa saldo Anda: Rp {saldo}\")\n",
    "                break  # Penarikan berhasil, keluar dari loop\n",
    "        except ValueError:\n",
    "            print(\"Masukkan jumlah penarikan dalam angka yang valid.\")\n",
    "\n",
    "# Menjalankan simulasi ATM\n",
    "atm_simulasi()\n",
    "# Khulika Malkan (2311110057)"
   ]
  },
  {
   "cell_type": "code",
   "execution_count": 28,
   "metadata": {},
   "outputs": [
    {
     "name": "stdout",
     "output_type": "stream",
     "text": [
      "rata-rata nilai siswa: 72.0\n",
      "\n",
      "Mahasiswa dengan nilai rata-rata tertinggi: 100 \n",
      "Mahasiswa dengan nilai rata-rata terendah: 50 \n"
     ]
    }
   ],
   "source": [
    "import pandas as pd\n",
    "data = pd.read_csv('siswa_nilai.csv')\n",
    "rata_rata = data ['Nilai'].mean()\n",
    "nilai_tertinggi = data ['Nilai'].max()\n",
    "nilai_terendah = data ['Nilai'].min()\n",
    "\n",
    "print(f\"rata-rata nilai siswa: {rata_rata}\")\n",
    "print(f\"\\nMahasiswa dengan nilai rata-rata tertinggi: {nilai_tertinggi} \")\n",
    "print(f\"Mahasiswa dengan nilai rata-rata terendah: {nilai_terendah} \")\n",
    "# Khulika Malkan (2311110057)"
   ]
  },
  {
   "cell_type": "code",
   "execution_count": 30,
   "metadata": {},
   "outputs": [
    {
     "name": "stdout",
     "output_type": "stream",
     "text": [
      "Selamat datang di permainan Tebak Angka!\n",
      "Saya telah memilih angka antara 1 hingga 100.\n",
      "Anda memiliki 5 kali percobaan untuk menebak angka tersebut.\n",
      "Tebakan Anda terlalu kecil.\n",
      "Tebakan Anda terlalu kecil.\n",
      "Tebakan Anda terlalu kecil.\n",
      "Tebakan Anda terlalu kecil.\n",
      "Tebakan Anda terlalu kecil.\n",
      "Maaf, Anda kehabisan kesempatan. Angka yang benar adalah 87.\n"
     ]
    }
   ],
   "source": [
    "# import modul untuk menyediakan fungsi yang menghasilkan angka acak\n",
    "import random\n",
    "\n",
    "# Fungsi tebak_angka()\n",
    "def tebak_angka():\n",
    "    angka_rahasia = random.randint(1, 100)  # Komputer memilih angka acak antara 1 dan 100\n",
    "    kesempatan = 5  # Pengguna memiliki 5 kesempatan\n",
    "\n",
    "# Pesan Selamat Datang\n",
    "    print(\"Selamat datang di permainan Tebak Angka!\")\n",
    "    print(\"Saya telah memilih angka antara 1 hingga 100.\")\n",
    "    print(f\"Anda memiliki {kesempatan} kali percobaan untuk menebak angka tersebut.\")\n",
    "\n",
    "    # Mulai loop untuk 5 percobaan/proses menebak angka\n",
    "    for percobaan in range(1, kesempatan + 1):\n",
    "        try:\n",
    "            tebakan = int(input(f\"Tebakan {percobaan}: Masukkan angka tebakan Anda: \"))\n",
    "\n",
    "            if tebakan < 1 or tebakan > 100:    # validasi input\n",
    "                print(\"Angka harus antara 1 hingga 100. Coba lagi.\")\n",
    "                continue\n",
    "\n",
    "            if tebakan == angka_rahasia:    # Membandingkan Tebakan dengan Angka Rahasia\n",
    "                print(f\"Selamat! Anda berhasil menebak angka {angka_rahasia} dalam {percobaan} percobaan.\")\n",
    "                break\n",
    "            elif tebakan < angka_rahasia:\n",
    "                print(\"Tebakan Anda terlalu kecil.\")\n",
    "            else:\n",
    "                print(\"Tebakan Anda terlalu besar.\")\n",
    "\n",
    "        except ValueError:    # Penanganan Error Input\n",
    "            print(\"Input tidak valid. Masukkan angka yang benar.\")\n",
    "            continue\n",
    "\n",
    "    else:\n",
    "        # Jika tidak menebak dengan benar dalam 5 kali percobaan\n",
    "        print(f\"Maaf, Anda kehabisan kesempatan. Angka yang benar adalah {angka_rahasia}.\")\n",
    "\n",
    "# Menjalankan permainan/memanggil fungsi tebak_angka() untuk memulai\n",
    "tebak_angka()\n",
    "# Khulika Malkan (2311110057)"
   ]
  },
  {
   "cell_type": "code",
   "execution_count": 21,
   "metadata": {},
   "outputs": [
    {
     "name": "stdout",
     "output_type": "stream",
     "text": [
      "Output: 1, 1, 2, 6, 24\n"
     ]
    }
   ],
   "source": [
    "# Fungsi rekursif untuk menghitung faktorial dari bilangan n\n",
    "def faktorial(n):\n",
    "    if n == 0 or n == 1:\n",
    "        return 1\n",
    "    else:\n",
    "        return n * faktorial(n - 1)\n",
    "\n",
    "# Fungsi rekursif untuk menghasilkan deret faktorial dari 0 hingga n\n",
    "def deret_faktorial(n):\n",
    "    if n == 0:\n",
    "        return [1]  # Basis kasus: faktorial dari 0 adalah 1\n",
    "    else:\n",
    "        deret_sebelumnya = deret_faktorial(n - 1)  # Rekursi\n",
    "        deret_sebelumnya.append(faktorial(n))  # Tambahkan faktorial n ke deret\n",
    "        return deret_sebelumnya\n",
    "\n",
    "# Tes fungsi\n",
    "n = 4\n",
    "hasil = deret_faktorial(n)\n",
    "print(\"Output:\", \", \".join(map(str, hasil)))\n",
    "# Khulika Malkan (2311110057)"
   ]
  },
  {
   "cell_type": "code",
   "execution_count": 32,
   "metadata": {},
   "outputs": [
    {
     "name": "stdout",
     "output_type": "stream",
     "text": [
      "Kombinasi minimum untuk mencapai 10000:\n",
      "Koin 500: 20 koin\n"
     ]
    }
   ],
   "source": [
    "def minimum_coin_change(total, koin_tersedia):\n",
    "    # Mengurutkan koin dari yang terbesar ke terkecil\n",
    "    koin_tersedia.sort(reverse=True)\n",
    "\n",
    "# Menginisialisasi variabel hasil dan sisa uang\n",
    "    hasil = {}\n",
    "    sisa_uang = total\n",
    "\n",
    "# Menghitung jumlah koin yang bisa digunakan untuk tiap denominasi:\n",
    "    for koin in koin_tersedia:\n",
    "        if sisa_uang >= koin:\n",
    "            jumlah_koin = sisa_uang // koin  # Berapa banyak koin ini bisa digunakan\n",
    "            sisa_uang = sisa_uang % koin  # Sisa uang yang belum dibayar\n",
    "            hasil[koin] = jumlah_koin  # Simpan hasil ke dictionary\n",
    "\n",
    "    # Jika sisa_uang masih lebih besar dari 0, berarti kombinasi koin tidak dapat mencapai jumlah yang diinginkan\n",
    "    if sisa_uang > 0:\n",
    "        print(f\"Jumlah uang {total} tidak bisa dicapai dengan kombinasi koin yang tersedia.\")\n",
    "   # Menampilkan kombinasi koin yang digunakan\n",
    "    else:\n",
    "        print(f\"Kombinasi minimum untuk mencapai {total}:\")\n",
    "        for koin, jumlah in hasil.items():\n",
    "            print(f\"Koin {koin}: {jumlah} koin\")\n",
    "\n",
    "# Fungsi utama untuk input dari pengguna\n",
    "def main():\n",
    "    try:\n",
    "        total_uang = int(input(\"Masukkan jumlah uang yang ingin dicapai: \"))\n",
    "        koin_tersedia = list(map(int, input(\"Masukkan nilai koin yang tersedia (pisahkan dengan spasi): \").split()))\n",
    "\n",
    "        # Memanggil fungsi untuk menghitung kombinasi minimum koin\n",
    "        minimum_coin_change(total_uang, koin_tersedia)\n",
    "\n",
    "    except ValueError:\n",
    "        print(\"Input tidak valid. Pastikan Anda memasukkan angka yang benar.\")\n",
    "\n",
    "# Menjalankan program\n",
    "main()\n",
    "# Khulika Malkan (2311110057)"
   ]
  },
  {
   "cell_type": "code",
   "execution_count": 33,
   "metadata": {},
   "outputs": [
    {
     "name": "stdout",
     "output_type": "stream",
     "text": [
      "Output: ['ayas', 'akus', 'gnidoc']\n"
     ]
    }
   ],
   "source": [
    "def balik_kata(string):\n",
    "    # Memecah string menjadi list kata-kata\n",
    "    kata_list = string.split()\n",
    "\n",
    "    # Membalik setiap kata dan menyimpan dalam list baru\n",
    "    kata_terbalik = [kata[::-1] for kata in kata_list]\n",
    "\n",
    "    return kata_terbalik\n",
    "\n",
    "# Fungsi utama untuk input dari pengguna\n",
    "def main():\n",
    "    # Menerima input dari pengguna\n",
    "    input_string = input(\"Masukkan sebuah kalimat: \")\n",
    "\n",
    "    # Memanggil fungsi untuk membalik kata-kata\n",
    "    hasil = balik_kata(input_string)\n",
    "\n",
    "    # Menampilkan hasil\n",
    "    print(\"Output:\", hasil)\n",
    "\n",
    "# Menjalankan program\n",
    "main()\n",
    "# Khulika Malkan (2311110057)"
   ]
  },
  {
   "cell_type": "code",
   "execution_count": 25,
   "metadata": {},
   "outputs": [
    {
     "name": "stdout",
     "output_type": "stream",
     "text": [
      "Judul: Infrastruktur dan Struktur Data\n",
      "Penulis: Siti Khomsah\n",
      "Tahun Terbit: 1977\n",
      "Usia Buku: 47 tahun\n",
      "------------------------------\n",
      "Judul: Fisolofi Hidup\n",
      "Penulis: K. Malkan\n",
      "Tahun Terbit: 2005\n",
      "Usia Buku: 19 tahun\n",
      "------------------------------\n",
      "Judul: Mencintai dalam hati\n",
      "Penulis: RWP\n",
      "Tahun Terbit: 2004\n",
      "Usia Buku: 20 tahun\n",
      "------------------------------\n"
     ]
    }
   ],
   "source": [
    "from datetime import datetime\n",
    "\n",
    "# Definisi class Buku\n",
    "class Buku:\n",
    "    # Constructor untuk menginisialisasi atribut\n",
    "    def __init__(self, judul, penulis, tahun_terbit):\n",
    "        self.judul = judul\n",
    "        self.penulis = penulis\n",
    "        self.tahun_terbit = tahun_terbit\n",
    "\n",
    "    # Method untuk menampilkan informasi buku\n",
    "    def info_buku(self):\n",
    "        print(f\"Judul: {self.judul}\")\n",
    "        print(f\"Penulis: {self.penulis}\")\n",
    "        print(f\"Tahun Terbit: {self.tahun_terbit}\")\n",
    "\n",
    "    # Method untuk menghitung usia buku\n",
    "    def usia_buku(self):\n",
    "        tahun_sekarang = datetime.now().year\n",
    "        usia = tahun_sekarang - self.tahun_terbit\n",
    "        return usia\n",
    "\n",
    "# Membuat tiga objek dari class Buku\n",
    "buku1 = Buku(\"Infrastruktur dan Struktur Data\", \"Siti Khomsah\", 1977)\n",
    "buku2 = Buku(\"Fisolofi Hidup\", \"K. Malkan\", 2005)\n",
    "buku3 = Buku(\"Mencintai dalam hati\", \"RWP\", 2004)\n",
    "\n",
    "# Menampilkan informasi dan usia dari setiap buku\n",
    "for buku in [buku1, buku2, buku3]:\n",
    "    buku.info_buku()\n",
    "    print(f\"Usia Buku: {buku.usia_buku()} tahun\")\n",
    "    print(\"-\" * 30)\n",
    "# Khulika Malkan (2311110057)"
   ]
  },
  {
   "cell_type": "code",
   "execution_count": 34,
   "metadata": {},
   "outputs": [
    {
     "name": "stdout",
     "output_type": "stream",
     "text": [
      "Nilai 8 ditemukan pada indeks 3.\n"
     ]
    }
   ],
   "source": [
    "def binary_search_genap(arr, target):\n",
    "    # Pastikan nilai yang dicari adalah bilangan genap\n",
    "    if target % 2 != 0:\n",
    "        print(f\"Nilai {target} adalah bilangan ganjil dan tidak bisa ditemukan.\")\n",
    "        return -1\n",
    "\n",
    "    # Implementasi pencarian biner\n",
    "    low = 0\n",
    "    high = len(arr) - 1\n",
    "\n",
    "    while low <= high:\n",
    "        mid = (low + high) // 2\n",
    "\n",
    "        if arr[mid] == target:\n",
    "            return mid\n",
    "        elif arr[mid] < target:\n",
    "            low = mid + 1\n",
    "        else:\n",
    "            high = mid - 1\n",
    "\n",
    "    # Jika tidak ditemukan\n",
    "    return -1\n",
    "\n",
    "# Fungsi utama untuk input dari pengguna\n",
    "def main():\n",
    "    # List hanya berisi angka genap\n",
    "    arr = [2, 4, 6, 8, 10, 12, 14, 16, 18, 20]\n",
    "\n",
    "    try:\n",
    "        # Input nilai yang ingin dicari\n",
    "        target = int(input(\"Masukkan nilai yang ingin dicari: \"))\n",
    "\n",
    "        # Panggil fungsi binary search yang dimodifikasi\n",
    "        index = binary_search_genap(arr, target)\n",
    "\n",
    "        if index != -1:\n",
    "            print(f\"Nilai {target} ditemukan pada indeks {index}.\")\n",
    "        else:\n",
    "            if target % 2 == 0:\n",
    "                print(f\"Nilai {target} tidak ditemukan dalam list.\")\n",
    "\n",
    "    except ValueError:\n",
    "        print(\"Input tidak valid. Masukkan angka yang benar.\")\n",
    "\n",
    "# Menjalankan program\n",
    "main()\n",
    "# Khulika Malkan (2311110057)"
   ]
  }
 ],
 "metadata": {
  "kernelspec": {
   "display_name": "Python 3",
   "language": "python",
   "name": "python3"
  },
  "language_info": {
   "codemirror_mode": {
    "name": "ipython",
    "version": 3
   },
   "file_extension": ".py",
   "mimetype": "text/x-python",
   "name": "python",
   "nbconvert_exporter": "python",
   "pygments_lexer": "ipython3",
   "version": "3.12.6"
  }
 },
 "nbformat": 4,
 "nbformat_minor": 2
}
