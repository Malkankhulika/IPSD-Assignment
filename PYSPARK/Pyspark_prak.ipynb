{
  "nbformat": 4,
  "nbformat_minor": 0,
  "metadata": {
    "colab": {
      "provenance": []
    },
    "kernelspec": {
      "name": "python3",
      "display_name": "Python 3"
    },
    "language_info": {
      "name": "python"
    }
  },
  "cells": [
    {
      "cell_type": "code",
      "source": [
        "from pyspark.sql import SparkSession\n",
        "from pyspark.ml.feature import VectorAssembler, StandardScaler\n",
        "from pyspark.ml.clustering import KMeans\n",
        "from pyspark.ml.regression import LinearRegression\n",
        "from pyspark.ml.classification import LogisticRegression\n",
        "from sklearn.datasets import load_iris, make_blobs, fetch_california_housing\n",
        "import pandas as pd\n",
        "from pyspark.ml.evaluation import RegressionEvaluator, MulticlassClassificationEvaluator, ClusteringEvaluator"
      ],
      "metadata": {
        "id": "8pvaFhvgFm9P"
      },
      "execution_count": null,
      "outputs": []
    },
    {
      "cell_type": "code",
      "source": [
        "# Membuat sesi Spark\n",
        "spark = SparkSession.builder.appName(\"PertemuanKeLupaGatauBerapa\").getOrCreate()"
      ],
      "metadata": {
        "id": "rOlrCN_1kUDA"
      },
      "execution_count": null,
      "outputs": []
    },
    {
      "cell_type": "markdown",
      "source": [
        "# Regresi"
      ],
      "metadata": {
        "id": "BJdaeTugkODK"
      }
    },
    {
      "cell_type": "code",
      "source": [
        "# Load dataset\n",
        "california = fetch_california_housing()\n",
        "california_df = pd.DataFrame(california.data, columns=california.feature_names)\n",
        "california_df[\"target\"] = california.target"
      ],
      "metadata": {
        "id": "aFI_FfnFkDSF"
      },
      "execution_count": null,
      "outputs": []
    },
    {
      "cell_type": "code",
      "source": [
        "# Convert ke PySpark DataFrame\n",
        "spark_california_df = spark.createDataFrame(california_df)"
      ],
      "metadata": {
        "id": "cN2ZK82skDPM"
      },
      "execution_count": null,
      "outputs": []
    },
    {
      "cell_type": "code",
      "source": [
        "spark_california_df.show(15)"
      ],
      "metadata": {
        "colab": {
          "base_uri": "https://localhost:8080/"
        },
        "id": "3aBSGC8fZUXT",
        "outputId": "c1493740-8d28-4a8b-fb32-7cef458e183f"
      },
      "execution_count": null,
      "outputs": [
        {
          "output_type": "stream",
          "name": "stdout",
          "text": [
            "+------+--------+------------------+------------------+----------+------------------+--------+---------+------+\n",
            "|MedInc|HouseAge|          AveRooms|         AveBedrms|Population|          AveOccup|Latitude|Longitude|target|\n",
            "+------+--------+------------------+------------------+----------+------------------+--------+---------+------+\n",
            "|8.3252|    41.0| 6.984126984126984|1.0238095238095237|     322.0|2.5555555555555554|   37.88|  -122.23| 4.526|\n",
            "|8.3014|    21.0| 6.238137082601054|0.9718804920913884|    2401.0| 2.109841827768014|   37.86|  -122.22| 3.585|\n",
            "|7.2574|    52.0| 8.288135593220339| 1.073446327683616|     496.0|2.8022598870056497|   37.85|  -122.24| 3.521|\n",
            "|5.6431|    52.0|5.8173515981735155|1.0730593607305936|     558.0| 2.547945205479452|   37.85|  -122.25| 3.413|\n",
            "|3.8462|    52.0| 6.281853281853282|1.0810810810810811|     565.0|2.1814671814671813|   37.85|  -122.25| 3.422|\n",
            "|4.0368|    52.0| 4.761658031088083|1.1036269430051813|     413.0| 2.139896373056995|   37.85|  -122.25| 2.697|\n",
            "|3.6591|    52.0|4.9319066147859925|0.9513618677042801|    1094.0|2.1284046692607004|   37.84|  -122.25| 2.992|\n",
            "|  3.12|    52.0| 4.797527047913447| 1.061823802163833|    1157.0|1.7882534775888717|   37.84|  -122.25| 2.414|\n",
            "|2.0804|    42.0| 4.294117647058823|1.1176470588235294|    1206.0| 2.026890756302521|   37.84|  -122.26| 2.267|\n",
            "|3.6912|    52.0| 4.970588235294118|0.9901960784313726|    1551.0| 2.172268907563025|   37.84|  -122.25| 2.611|\n",
            "|3.2031|    52.0| 5.477611940298507|1.0796019900497513|     910.0| 2.263681592039801|   37.85|  -122.26| 2.815|\n",
            "|3.2705|    52.0| 4.772479564032698|1.0245231607629428|    1504.0|2.0490463215258856|   37.85|  -122.26| 2.418|\n",
            "| 3.075|    52.0| 5.322649572649572|1.0128205128205128|    1098.0|2.3461538461538463|   37.85|  -122.26| 2.135|\n",
            "|2.6736|    52.0|               4.0|1.0977011494252873|     345.0|1.9827586206896552|   37.84|  -122.26| 1.913|\n",
            "|1.9167|    52.0| 4.262903225806451|1.0096774193548388|    1212.0|1.9548387096774194|   37.85|  -122.26| 1.592|\n",
            "+------+--------+------------------+------------------+----------+------------------+--------+---------+------+\n",
            "only showing top 15 rows\n",
            "\n"
          ]
        }
      ]
    },
    {
      "cell_type": "code",
      "source": [
        "california_df.info()"
      ],
      "metadata": {
        "colab": {
          "base_uri": "https://localhost:8080/"
        },
        "id": "9W9T_k3Xr_Dt",
        "outputId": "8b962e55-9251-4d64-ddb1-b4da72c87508"
      },
      "execution_count": null,
      "outputs": [
        {
          "output_type": "stream",
          "name": "stdout",
          "text": [
            "<class 'pandas.core.frame.DataFrame'>\n",
            "RangeIndex: 20640 entries, 0 to 20639\n",
            "Data columns (total 9 columns):\n",
            " #   Column      Non-Null Count  Dtype  \n",
            "---  ------      --------------  -----  \n",
            " 0   MedInc      20640 non-null  float64\n",
            " 1   HouseAge    20640 non-null  float64\n",
            " 2   AveRooms    20640 non-null  float64\n",
            " 3   AveBedrms   20640 non-null  float64\n",
            " 4   Population  20640 non-null  float64\n",
            " 5   AveOccup    20640 non-null  float64\n",
            " 6   Latitude    20640 non-null  float64\n",
            " 7   Longitude   20640 non-null  float64\n",
            " 8   target      20640 non-null  float64\n",
            "dtypes: float64(9)\n",
            "memory usage: 1.4 MB\n"
          ]
        }
      ]
    },
    {
      "cell_type": "code",
      "source": [
        "spark_california_df.printSchema()"
      ],
      "metadata": {
        "colab": {
          "base_uri": "https://localhost:8080/"
        },
        "id": "M8sUdevBkpWw",
        "outputId": "1188a6c3-863d-4a57-86f7-d5ef18c26db5"
      },
      "execution_count": null,
      "outputs": [
        {
          "output_type": "stream",
          "name": "stdout",
          "text": [
            "root\n",
            " |-- MedInc: double (nullable = true)\n",
            " |-- HouseAge: double (nullable = true)\n",
            " |-- AveRooms: double (nullable = true)\n",
            " |-- AveBedrms: double (nullable = true)\n",
            " |-- Population: double (nullable = true)\n",
            " |-- AveOccup: double (nullable = true)\n",
            " |-- Latitude: double (nullable = true)\n",
            " |-- Longitude: double (nullable = true)\n",
            " |-- target: double (nullable = true)\n",
            "\n"
          ]
        }
      ]
    },
    {
      "cell_type": "code",
      "source": [
        "spark_california_df.describe().show()"
      ],
      "metadata": {
        "colab": {
          "base_uri": "https://localhost:8080/"
        },
        "id": "-7I6vTCXkq3n",
        "outputId": "7989d745-c7a0-45ab-c8ec-e1085bec0220"
      },
      "execution_count": null,
      "outputs": [
        {
          "output_type": "stream",
          "name": "stdout",
          "text": [
            "+-------+------------------+------------------+------------------+------------------+------------------+------------------+------------------+-------------------+------------------+\n",
            "|summary|            MedInc|          HouseAge|          AveRooms|         AveBedrms|        Population|          AveOccup|          Latitude|          Longitude|            target|\n",
            "+-------+------------------+------------------+------------------+------------------+------------------+------------------+------------------+-------------------+------------------+\n",
            "|  count|             20640|             20640|             20640|             20640|             20640|             20640|             20640|              20640|             20640|\n",
            "|   mean| 3.870671002906976|28.639486434108527| 5.428999742190385| 1.096675149606209|1425.4767441860465|3.0706551594363716|  35.6318614341086|-119.56970445736394|2.0685581690891293|\n",
            "| stddev|1.8998217179452666|12.585557612111632|2.4741731394243245|0.4739108567954673|1132.4621217653405|10.386049562213614|2.1359523974571313| 2.0035317235025842|1.1539561587441383|\n",
            "|    min|            0.4999|               1.0|0.8461538461538461|0.3333333333333333|               3.0|0.6923076923076923|             32.54|            -124.35|           0.14999|\n",
            "|    max|           15.0001|              52.0| 141.9090909090909| 34.06666666666667|           35682.0|1243.3333333333333|             41.95|            -114.31|           5.00001|\n",
            "+-------+------------------+------------------+------------------+------------------+------------------+------------------+------------------+-------------------+------------------+\n",
            "\n"
          ]
        }
      ]
    },
    {
      "cell_type": "code",
      "source": [
        "# Preprocessing\n",
        "assembler = VectorAssembler(inputCols=california.feature_names, outputCol=\"features\")\n",
        "spark_california_df = assembler.transform(spark_california_df).select(\"features\", \"target\")"
      ],
      "metadata": {
        "id": "tilb_MDsksM6"
      },
      "execution_count": null,
      "outputs": []
    },
    {
      "cell_type": "code",
      "source": [
        "spark_california_df.show(5)"
      ],
      "metadata": {
        "colab": {
          "base_uri": "https://localhost:8080/"
        },
        "id": "Xh1PTK5UbQJg",
        "outputId": "13a31fff-638a-4ddf-8b71-2db67e81b05c"
      },
      "execution_count": null,
      "outputs": [
        {
          "output_type": "stream",
          "name": "stdout",
          "text": [
            "+--------------------+------+\n",
            "|            features|target|\n",
            "+--------------------+------+\n",
            "|[8.3252,41.0,6.98...| 4.526|\n",
            "|[8.3014,21.0,6.23...| 3.585|\n",
            "|[7.2574,52.0,8.28...| 3.521|\n",
            "|[5.6431,52.0,5.81...| 3.413|\n",
            "|[3.8462,52.0,6.28...| 3.422|\n",
            "+--------------------+------+\n",
            "only showing top 5 rows\n",
            "\n"
          ]
        }
      ]
    },
    {
      "cell_type": "code",
      "source": [
        "train, test = spark_california_df.randomSplit([0.8, 0.2], seed=42)"
      ],
      "metadata": {
        "id": "sHsh2n4Aktic"
      },
      "execution_count": null,
      "outputs": []
    },
    {
      "cell_type": "code",
      "source": [
        "lr = LinearRegression(featuresCol=\"features\", labelCol=\"target\")\n",
        "lr_model = lr.fit(train)\n",
        "predictions = lr_model.transform(test)\n",
        "print(\"Prediksi Regresi:\")\n",
        "predictions.show()"
      ],
      "metadata": {
        "colab": {
          "base_uri": "https://localhost:8080/"
        },
        "id": "dETtojrGkvHS",
        "outputId": "1ea13ea2-689a-44fa-ca50-b296b571d8e7"
      },
      "execution_count": null,
      "outputs": [
        {
          "output_type": "stream",
          "name": "stdout",
          "text": [
            "Prediksi Regresi:\n",
            "+--------------------+-------+--------------------+\n",
            "|            features| target|          prediction|\n",
            "+--------------------+-------+--------------------+\n",
            "|[0.4999,28.0,7.67...|5.00001|  0.8636611002081835|\n",
            "|[0.4999,52.0,2.6,...|  0.906|  1.0207615146533868|\n",
            "|[0.536,16.0,4.5,1...|    3.5|   1.091494549716252|\n",
            "|[0.6775,52.0,1.74...|    3.5|  1.5128374133887448|\n",
            "|[0.7403,37.0,4.49...|  0.686|  1.1569189315147597|\n",
            "|[0.76,10.0,2.6515...|  1.625|  1.0887481760842306|\n",
            "|[0.8026,23.0,5.36...|  1.125|  0.9722254546464413|\n",
            "|[0.8185,13.0,2.49...|  1.875|  0.9692636883896455|\n",
            "|[0.8585,15.0,4.82...|   0.45| -0.1640116290411484|\n",
            "|[0.8639,28.0,4.28...|  0.494|  0.7026276336935879|\n",
            "|[0.8641,37.0,4.07...|  0.842|  1.2293545554076815|\n",
            "|[0.8702,11.0,3.71...|  1.705|   0.794182512483097|\n",
            "|[0.8907,34.0,2.28...|  1.542|  0.9605594770829953|\n",
            "|[0.8964,24.0,5.72...|  0.592|-0.02265069454171...|\n",
            "|[0.9234,40.0,2.73...|  1.875|  1.5398923505879978|\n",
            "|[0.9337,45.0,4.71...|  0.923|  1.1720247874960492|\n",
            "|[0.9563,52.0,1.78...|   2.75|  1.6207076899018986|\n",
            "|[1.0,52.0,3.92708...|   0.45|  0.7370606916439044|\n",
            "|[1.0516,41.0,4.27...|  1.083|  1.2322566534282302|\n",
            "|[1.056,24.0,4.462...|  0.516|  0.7710521016703424|\n",
            "+--------------------+-------+--------------------+\n",
            "only showing top 20 rows\n",
            "\n"
          ]
        }
      ]
    },
    {
      "cell_type": "code",
      "source": [
        "regressor_evaluator = RegressionEvaluator(labelCol=\"target\",\n",
        "                                          predictionCol=\"prediction\",\n",
        "                                          metricName=\"rmse\")\n",
        "rmse = regressor_evaluator.evaluate(predictions)\n",
        "print(f\"RMSE: {rmse}\")\n",
        "\n",
        "r2_evaluator = RegressionEvaluator(labelCol=\"target\",\n",
        "                                   predictionCol=\"prediction\",\n",
        "                                   metricName=\"r2\")\n",
        "r2 = r2_evaluator.evaluate(predictions)\n",
        "print(f\"R2: {r2}\")"
      ],
      "metadata": {
        "colab": {
          "base_uri": "https://localhost:8080/"
        },
        "id": "7I__IlUnkxac",
        "outputId": "08617997-13d4-4ec5-e0b6-d884bc21e390"
      },
      "execution_count": null,
      "outputs": [
        {
          "output_type": "stream",
          "name": "stdout",
          "text": [
            "RMSE: 0.733293906676871\n",
            "R2: 0.5863933868971052\n"
          ]
        }
      ]
    },
    {
      "cell_type": "markdown",
      "source": [
        "# Klasifikasi"
      ],
      "metadata": {
        "id": "nfl-anbJk25y"
      }
    },
    {
      "cell_type": "code",
      "source": [
        "iris = load_iris()\n",
        "iris_df = pd.DataFrame(iris.data, columns=iris.feature_names)\n",
        "iris_df[\"target\"] = iris.target"
      ],
      "metadata": {
        "id": "Y_yU691Mk2Lo"
      },
      "execution_count": null,
      "outputs": []
    },
    {
      "cell_type": "code",
      "source": [
        "# Convert ke PySpark DataFrame\n",
        "spark_iris_df = spark.createDataFrame(iris_df)"
      ],
      "metadata": {
        "id": "8uPKcmnuk69n"
      },
      "execution_count": null,
      "outputs": []
    },
    {
      "cell_type": "code",
      "source": [
        "spark_iris_df.printSchema()"
      ],
      "metadata": {
        "colab": {
          "base_uri": "https://localhost:8080/"
        },
        "id": "Cf6Ox8tCk9kk",
        "outputId": "0d58a7d0-5fb2-46fc-e9e6-4e341ba8d753"
      },
      "execution_count": null,
      "outputs": [
        {
          "output_type": "stream",
          "name": "stdout",
          "text": [
            "root\n",
            " |-- sepal length (cm): double (nullable = true)\n",
            " |-- sepal width (cm): double (nullable = true)\n",
            " |-- petal length (cm): double (nullable = true)\n",
            " |-- petal width (cm): double (nullable = true)\n",
            " |-- target: long (nullable = true)\n",
            "\n"
          ]
        }
      ]
    },
    {
      "cell_type": "code",
      "source": [
        "spark_iris_df.show(10)"
      ],
      "metadata": {
        "colab": {
          "base_uri": "https://localhost:8080/"
        },
        "id": "oNzXiH0cyDVO",
        "outputId": "810d11fb-00ff-4f84-e725-0d41b38525be"
      },
      "execution_count": null,
      "outputs": [
        {
          "output_type": "stream",
          "name": "stdout",
          "text": [
            "+-----------------+----------------+-----------------+----------------+------+\n",
            "|sepal length (cm)|sepal width (cm)|petal length (cm)|petal width (cm)|target|\n",
            "+-----------------+----------------+-----------------+----------------+------+\n",
            "|              5.1|             3.5|              1.4|             0.2|     0|\n",
            "|              4.9|             3.0|              1.4|             0.2|     0|\n",
            "|              4.7|             3.2|              1.3|             0.2|     0|\n",
            "|              4.6|             3.1|              1.5|             0.2|     0|\n",
            "|              5.0|             3.6|              1.4|             0.2|     0|\n",
            "|              5.4|             3.9|              1.7|             0.4|     0|\n",
            "|              4.6|             3.4|              1.4|             0.3|     0|\n",
            "|              5.0|             3.4|              1.5|             0.2|     0|\n",
            "|              4.4|             2.9|              1.4|             0.2|     0|\n",
            "|              4.9|             3.1|              1.5|             0.1|     0|\n",
            "+-----------------+----------------+-----------------+----------------+------+\n",
            "only showing top 10 rows\n",
            "\n"
          ]
        }
      ]
    },
    {
      "cell_type": "code",
      "source": [
        "spark_iris_df.describe().show()"
      ],
      "metadata": {
        "colab": {
          "base_uri": "https://localhost:8080/"
        },
        "id": "eBxhJk-bk-KY",
        "outputId": "10d5f6f8-0d4a-4905-d63b-1a7b3bcf1142"
      },
      "execution_count": null,
      "outputs": [
        {
          "output_type": "stream",
          "name": "stdout",
          "text": [
            "+-------+------------------+------------------+------------------+------------------+------------------+\n",
            "|summary| sepal length (cm)|  sepal width (cm)| petal length (cm)|  petal width (cm)|            target|\n",
            "+-------+------------------+------------------+------------------+------------------+------------------+\n",
            "|  count|               150|               150|               150|               150|               150|\n",
            "|   mean| 5.843333333333332|3.0573333333333337| 3.758000000000001|1.1993333333333331|               1.0|\n",
            "| stddev|0.8280661279778628|0.4358662849366982|1.7652982332594664|0.7622376689603467|0.8192319205190403|\n",
            "|    min|               4.3|               2.0|               1.0|               0.1|                 0|\n",
            "|    max|               7.9|               4.4|               6.9|               2.5|                 2|\n",
            "+-------+------------------+------------------+------------------+------------------+------------------+\n",
            "\n"
          ]
        }
      ]
    },
    {
      "cell_type": "code",
      "source": [
        "assembler = VectorAssembler(inputCols=iris.feature_names, outputCol=\"features\")\n",
        "spark_iris_df = assembler.transform(spark_iris_df).select(\"features\", \"target\")"
      ],
      "metadata": {
        "id": "Z8oPjQ9QlEuf"
      },
      "execution_count": null,
      "outputs": []
    },
    {
      "cell_type": "code",
      "source": [
        "spark_iris_df.show()"
      ],
      "metadata": {
        "colab": {
          "base_uri": "https://localhost:8080/"
        },
        "id": "OOgH9kJozbTA",
        "outputId": "50d7fb38-a6a4-4474-9a02-f322376d5fff"
      },
      "execution_count": null,
      "outputs": [
        {
          "output_type": "stream",
          "name": "stdout",
          "text": [
            "+-----------------+------+\n",
            "|         features|target|\n",
            "+-----------------+------+\n",
            "|[5.1,3.5,1.4,0.2]|     0|\n",
            "|[4.9,3.0,1.4,0.2]|     0|\n",
            "|[4.7,3.2,1.3,0.2]|     0|\n",
            "|[4.6,3.1,1.5,0.2]|     0|\n",
            "|[5.0,3.6,1.4,0.2]|     0|\n",
            "|[5.4,3.9,1.7,0.4]|     0|\n",
            "|[4.6,3.4,1.4,0.3]|     0|\n",
            "|[5.0,3.4,1.5,0.2]|     0|\n",
            "|[4.4,2.9,1.4,0.2]|     0|\n",
            "|[4.9,3.1,1.5,0.1]|     0|\n",
            "|[5.4,3.7,1.5,0.2]|     0|\n",
            "|[4.8,3.4,1.6,0.2]|     0|\n",
            "|[4.8,3.0,1.4,0.1]|     0|\n",
            "|[4.3,3.0,1.1,0.1]|     0|\n",
            "|[5.8,4.0,1.2,0.2]|     0|\n",
            "|[5.7,4.4,1.5,0.4]|     0|\n",
            "|[5.4,3.9,1.3,0.4]|     0|\n",
            "|[5.1,3.5,1.4,0.3]|     0|\n",
            "|[5.7,3.8,1.7,0.3]|     0|\n",
            "|[5.1,3.8,1.5,0.3]|     0|\n",
            "+-----------------+------+\n",
            "only showing top 20 rows\n",
            "\n"
          ]
        }
      ]
    },
    {
      "cell_type": "code",
      "source": [
        "# Split Data\n",
        "train, test = spark_iris_df.randomSplit([0.8, 0.2], seed=42)"
      ],
      "metadata": {
        "id": "dcEj3kzHlIvh"
      },
      "execution_count": null,
      "outputs": []
    },
    {
      "cell_type": "code",
      "source": [
        "lr = LogisticRegression(featuresCol=\"features\", labelCol=\"target\", maxIter=10)\n",
        "lr_model = lr.fit(train)\n",
        "predictions = lr_model.transform(test)\n",
        "print(\"Prediksi Klasifikasi:\")\n",
        "predictions.show()"
      ],
      "metadata": {
        "colab": {
          "base_uri": "https://localhost:8080/"
        },
        "id": "HgwOQ7SolK8C",
        "outputId": "e9489463-9387-4153-dbbd-55f2e06cfbe2"
      },
      "execution_count": null,
      "outputs": [
        {
          "output_type": "stream",
          "name": "stdout",
          "text": [
            "Prediksi Klasifikasi:\n",
            "+-----------------+------+--------------------+--------------------+----------+\n",
            "|         features|target|       rawPrediction|         probability|prediction|\n",
            "+-----------------+------+--------------------+--------------------+----------+\n",
            "|[4.4,3.0,1.3,0.2]|     0|[18.4881102722326...|[0.99997956637236...|       0.0|\n",
            "|[4.6,3.2,1.4,0.2]|     0|[18.6731364276534...|[0.99997845923892...|       0.0|\n",
            "|[4.6,3.6,1.0,0.2]|     0|[22.5439678867162...|[0.99999953371617...|       0.0|\n",
            "|[4.8,3.1,1.6,0.2]|     0|[16.5922527329727...|[0.99974667589489...|       0.0|\n",
            "|[4.9,3.1,1.5,0.2]|     0|[16.5135751261617...|[0.99961967633528...|       0.0|\n",
            "|[5.0,3.2,1.2,0.2]|     0|[17.7212122562142...|[0.99982614479709...|       0.0|\n",
            "|[5.0,3.6,1.4,0.2]|     0|[19.6804024826906...|[0.99998492590785...|       0.0|\n",
            "|[5.1,3.8,1.5,0.3]|     0|[19.5765019043532...|[0.99998680030949...|       0.0|\n",
            "|[5.4,3.7,1.5,0.2]|     0|[18.4217586876262...|[0.99988230608514...|       0.0|\n",
            "|[5.4,3.9,1.3,0.4]|     0|[18.9847519918237...|[0.99995722038655...|       0.0|\n",
            "|[5.4,3.9,1.7,0.4]|     0|[17.7103245034328...|[0.99989212069186...|       0.0|\n",
            "|[5.5,3.5,1.3,0.2]|     0|[17.3634859675770...|[0.99940008563906...|       0.0|\n",
            "|[5.6,2.5,3.9,1.1]|     1|[-3.9844880265543...|[2.56295697115262...|       1.0|\n",
            "|[5.7,3.8,1.7,0.3]|     0|[16.5555812867058...|[0.99903882378107...|       0.0|\n",
            "|[6.1,2.8,4.0,1.3]|     1|[-5.7146367405253...|[3.00496302991544...|       1.0|\n",
            "|[6.4,3.2,4.5,1.5]|     1|[-7.2755429924019...|[1.03186693128239...|       1.0|\n",
            "|[4.9,2.5,4.5,1.7]|     2|[-7.2324051827814...|[8.01480218864726...|       2.0|\n",
            "|[5.5,2.4,3.8,1.1]|     1|[-3.9176976682159...|[2.95399646002959...|       1.0|\n",
            "|[5.5,2.5,4.0,1.3]|     1|[-5.2782328450772...|[1.55513635582928...|       1.0|\n",
            "|[5.7,2.9,4.2,1.3]|     1|[-4.1136115764181...|[5.01641093376926...|       1.0|\n",
            "+-----------------+------+--------------------+--------------------+----------+\n",
            "only showing top 20 rows\n",
            "\n"
          ]
        }
      ]
    },
    {
      "cell_type": "code",
      "source": [
        "evaluator = MulticlassClassificationEvaluator(labelCol=\"target\", predictionCol=\"prediction\", metricName=\"accuracy\")\n",
        "accuracy = evaluator.evaluate(predictions)\n",
        "print(f\"Akurasi: {accuracy}\")"
      ],
      "metadata": {
        "colab": {
          "base_uri": "https://localhost:8080/"
        },
        "id": "FnR7_5DLlSOW",
        "outputId": "79629669-97c0-423c-9e65-3e9da961836f"
      },
      "execution_count": null,
      "outputs": [
        {
          "output_type": "stream",
          "name": "stdout",
          "text": [
            "Akurasi: 1.0\n"
          ]
        }
      ]
    },
    {
      "cell_type": "markdown",
      "source": [
        "# Clustering"
      ],
      "metadata": {
        "id": "i6wz6m7plb37"
      }
    },
    {
      "cell_type": "code",
      "source": [
        "# Load dataset\n",
        "X, _ = make_blobs(n_samples=300, centers=3, cluster_std=1, random_state=42)\n",
        "blobs_df = pd.DataFrame(X, columns=[\"Feature1\", \"Feature2\"])"
      ],
      "metadata": {
        "id": "nbliDXeTlgpV"
      },
      "execution_count": null,
      "outputs": []
    },
    {
      "cell_type": "code",
      "source": [
        "import matplotlib.pyplot as plt\n",
        "plt.scatter(blobs_df[\"Feature1\"], blobs_df[\"Feature2\"])\n",
        "plt.xlabel(\"Feature1\")\n",
        "plt.ylabel(\"Feature2\")\n",
        "plt.title(\"Dataset Blobs\")\n",
        "plt.show()"
      ],
      "metadata": {
        "colab": {
          "base_uri": "https://localhost:8080/",
          "height": 472
        },
        "id": "eCcd36_u01ne",
        "outputId": "6f17905f-f5dc-49ae-f47d-6ce2c4efba9f"
      },
      "execution_count": null,
      "outputs": [
        {
          "output_type": "display_data",
          "data": {
            "text/plain": [
              "<Figure size 640x480 with 1 Axes>"
            ],
            "image/png": "[encoded data removed]"
          },
          "metadata": {}
        }
      ]
    },
    {
      "cell_type": "code",
      "source": [
        "# Convert ke PySpark DataFrame\n",
        "spark_blobs_df = spark.createDataFrame(blobs_df)"
      ],
      "metadata": {
        "id": "AcIbmHjhlhlB"
      },
      "execution_count": null,
      "outputs": []
    },
    {
      "cell_type": "code",
      "source": [
        "spark_blobs_df.printSchema()"
      ],
      "metadata": {
        "colab": {
          "base_uri": "https://localhost:8080/"
        },
        "id": "ZgqvrxJtlkni",
        "outputId": "b23707e8-a66f-46ca-fa2a-cece438d8c9e"
      },
      "execution_count": null,
      "outputs": [
        {
          "output_type": "stream",
          "name": "stdout",
          "text": [
            "root\n",
            " |-- Feature1: double (nullable = true)\n",
            " |-- Feature2: double (nullable = true)\n",
            "\n"
          ]
        }
      ]
    },
    {
      "cell_type": "code",
      "source": [
        "spark_blobs_df.describe().show()"
      ],
      "metadata": {
        "colab": {
          "base_uri": "https://localhost:8080/"
        },
        "id": "9jH70cCMll5m",
        "outputId": "e9b2c51c-cbd3-4a72-f810-57860cd5547b"
      },
      "execution_count": null,
      "outputs": [
        {
          "output_type": "stream",
          "name": "stdout",
          "text": [
            "+-------+-------------------+------------------+\n",
            "|summary|           Feature1|          Feature2|\n",
            "+-------+-------------------+------------------+\n",
            "|  count|                300|               300|\n",
            "|   mean|-1.5900003646034588| 1.356726636034251|\n",
            "| stddev|   4.91128429549514|6.6418786697912875|\n",
            "|    min| -9.351271691278559|-9.182030758011532|\n",
            "|    max|   6.95453740290161| 11.73445529478794|\n",
            "+-------+-------------------+------------------+\n",
            "\n"
          ]
        }
      ]
    },
    {
      "cell_type": "code",
      "source": [
        "assembler = VectorAssembler(inputCols=[\"Feature1\", \"Feature2\"], outputCol=\"features\")\n",
        "spark_blobs_df = assembler.transform(spark_blobs_df).select(\"features\")"
      ],
      "metadata": {
        "id": "sz1TFb0DlogU"
      },
      "execution_count": null,
      "outputs": []
    },
    {
      "cell_type": "code",
      "source": [
        "kmeans = KMeans(featuresCol=\"features\", k=3, seed=42)\n",
        "kmeans_model = kmeans.fit(spark_blobs_df)\n",
        "predictions = kmeans_model.transform(spark_blobs_df)\n",
        "print(\"Prediksi Clustering:\")\n",
        "predictions.show()"
      ],
      "metadata": {
        "colab": {
          "base_uri": "https://localhost:8080/"
        },
        "id": "46xjbPcalpvB",
        "outputId": "64a01b24-43b2-4aac-aa20-05aeff7767d9"
      },
      "execution_count": null,
      "outputs": [
        {
          "output_type": "stream",
          "name": "stdout",
          "text": [
            "Prediksi Clustering:\n",
            "+--------------------+----------+\n",
            "|            features|prediction|\n",
            "+--------------------+----------+\n",
            "|[-7.3389880906915...|         1|\n",
            "|[-7.7400405564352...|         1|\n",
            "|[-1.6866527109495...|         2|\n",
            "|[4.42219763300088...|         0|\n",
            "|[-8.9177517263291...|         1|\n",
            "|[5.49753845943012...|         0|\n",
            "|[-2.3360166972015...|         2|\n",
            "|[5.05281029050372...|         0|\n",
            "|[-2.9883718608980...|         2|\n",
            "|[-3.7005011202553...|         2|\n",
            "|[-3.1109042352821...|         2|\n",
            "|[4.99689432219314...|         0|\n",
            "|[-2.3003340280479...|         2|\n",
            "|[-3.9245683651031...|         2|\n",
            "|[-7.5302697602730...|         1|\n",
            "|[-3.2112507169301...|         2|\n",
            "|[-8.5071696290344...|         1|\n",
            "|[2.61473624957049...|         0|\n",
            "|[-2.4121200737047...|         2|\n",
            "|[-1.9223405292524...|         2|\n",
            "+--------------------+----------+\n",
            "only showing top 20 rows\n",
            "\n"
          ]
        }
      ]
    },
    {
      "cell_type": "code",
      "source": [
        "print(\"Pusat Cluster:\")\n",
        "for i, center in enumerate(kmeans_model.clusterCenters()):\n",
        "    print(f\"Cluster {i}: {center}\")"
      ],
      "metadata": {
        "colab": {
          "base_uri": "https://localhost:8080/"
        },
        "id": "qbKl6XaekDCX",
        "outputId": "93363b20-2bfa-4f52-dcc2-a64d1dcd5261"
      },
      "execution_count": null,
      "outputs": [
        {
          "output_type": "stream",
          "name": "stdout",
          "text": [
            "Pusat Cluster:\n",
            "Cluster 0: [4.74710337 2.01059427]\n",
            "Cluster 1: [-6.88387179 -6.98398415]\n",
            "Cluster 2: [-2.63323268  9.04356978]\n"
          ]
        }
      ]
    },
    {
      "cell_type": "code",
      "source": [
        "clustering_evaluator = ClusteringEvaluator(predictionCol=\"prediction\", metricName=\"silhouette\")\n",
        "silhouette = clustering_evaluator.evaluate(predictions)\n",
        "print(f\"Silhouette Score: {silhouette}\")"
      ],
      "metadata": {
        "colab": {
          "base_uri": "https://localhost:8080/"
        },
        "id": "_Gymdl00lrSM",
        "outputId": "5b1d471e-a20a-453a-f66c-82f9ba77c6f2"
      },
      "execution_count": null,
      "outputs": [
        {
          "output_type": "stream",
          "name": "stdout",
          "text": [
            "Silhouette Score: 0.9696628776463792\n"
          ]
        }
      ]
    },
    {
      "cell_type": "code",
      "source": [],
      "metadata": {
        "id": "EG1oCPk6kC_k"
      },
      "execution_count": null,
      "outputs": []
    },
    {
      "cell_type": "code",
      "source": [],
      "metadata": {
        "id": "GtqAsMcdkC8s"
      },
      "execution_count": null,
      "outputs": []
    },
    {
      "cell_type": "code",
      "source": [],
      "metadata": {
        "id": "b0tR6LT-kC1o"
      },
      "execution_count": null,
      "outputs": []
    },
    {
      "cell_type": "code",
      "source": [],
      "metadata": {
        "id": "lrd30mv_kCyr"
      },
      "execution_count": null,
      "outputs": []
    },
    {
      "cell_type": "code",
      "source": [],
      "metadata": {
        "id": "bVrQ-X6ekCvx"
      },
      "execution_count": null,
      "outputs": []
    },
    {
      "cell_type": "code",
      "source": [],
      "metadata": {
        "id": "jGRx5mspkCs8"
      },
      "execution_count": null,
      "outputs": []
    },
    {
      "cell_type": "code",
      "source": [],
      "metadata": {
        "id": "0a_r1ctLkCqH"
      },
      "execution_count": null,
      "outputs": []
    },
    {
      "cell_type": "code",
      "source": [],
      "metadata": {
        "id": "5I5s_e2fkCnQ"
      },
      "execution_count": null,
      "outputs": []
    },
    {
      "cell_type": "code",
      "source": [],
      "metadata": {
        "id": "PPxNiNC6kCkY"
      },
      "execution_count": null,
      "outputs": []
    },
    {
      "cell_type": "code",
      "source": [],
      "metadata": {
        "id": "0-ic5lTakChv"
      },
      "execution_count": null,
      "outputs": []
    },
    {
      "cell_type": "code",
      "source": [],
      "metadata": {
        "id": "NqD0BfcYkCfM"
      },
      "execution_count": null,
      "outputs": []
    },
    {
      "cell_type": "code",
      "source": [],
      "metadata": {
        "id": "NFrUyJrlkCcg"
      },
      "execution_count": null,
      "outputs": []
    },
    {
      "cell_type": "code",
      "source": [],
      "metadata": {
        "id": "lStHACLckCZ8"
      },
      "execution_count": null,
      "outputs": []
    },
    {
      "cell_type": "code",
      "source": [],
      "metadata": {
        "id": "AtgD1NoOkCXD"
      },
      "execution_count": null,
      "outputs": []
    },
    {
      "cell_type": "code",
      "source": [],
      "metadata": {
        "id": "5AW-lVJPkCUM"
      },
      "execution_count": null,
      "outputs": []
    },
    {
      "cell_type": "code",
      "source": [
        "from pyspark.sql import SparkSession\n",
        "from pyspark.sql.functions import col, when, isnan, count\n",
        "from pyspark.ml.feature import VectorAssembler, StandardScaler\n",
        "from pyspark.ml.classification import LogisticRegression\n",
        "from pyspark.ml.stat import Correlation\n",
        "from pyspark.sql.types import FloatType\n",
        "from pyspark.ml.feature import Imputer\n",
        "from imblearn.over_sampling import SMOTE\n",
        "import pandas as pd\n",
        "import numpy as np\n",
        "\n",
        "# Membuat sesi Spark\n",
        "spark = SparkSession.builder.appName(\"ImbalancePreprocessing\").getOrCreate()\n",
        "\n",
        "# Contoh dataset dengan missing values dan imbalance\n",
        "data = [\n",
        "    (1, 2.0, 3.0, 0),\n",
        "    (2, None, 2.5, 0),\n",
        "    (3, 4.1, None, 1),\n",
        "    (4, 3.5, 1.2, 0),\n",
        "    (5, None, 0.5, 0),\n",
        "    (6, 4.3, 2.1, 1),\n",
        "    (7, 3.0, 3.3, 0),\n",
        "    (8, 5.0, None, 0),\n",
        "    (9, 2.1, 1.0, 0),\n",
        "    (10, None, None, 1),\n",
        "]\n",
        "columns = [\"ID\", \"Feature1\", \"Feature2\", \"Label\"]\n",
        "\n",
        "# Membuat DataFrame PySpark\n",
        "df = spark.createDataFrame(data, columns)\n",
        "\n",
        "# --- EDA ---\n",
        "print(\"Data Awal:\")\n",
        "df.show()\n",
        "\n",
        "# Cek missing values\n",
        "print(\"Jumlah Missing Values per Kolom:\")\n",
        "df.select([count(when(isnan(c) | col(c).isNull(), c)).alias(c) for c in df.columns]).show()\n",
        "\n",
        "# --- Preprocessing ---\n",
        "# 1. Mengatasi missing values dengan mean\n",
        "imputer = Imputer(inputCols=[\"Feature1\", \"Feature2\"], outputCols=[\"Feature1\", \"Feature2\"])\n",
        "df = imputer.fit(df).transform(df)\n",
        "\n",
        "print(\"Data setelah imputasi missing values:\")\n",
        "df.show()\n",
        "\n",
        "# 2. Menggabungkan fitur\n",
        "assembler = VectorAssembler(inputCols=[\"Feature1\", \"Feature2\"], outputCol=\"features\")\n",
        "df = assembler.transform(df).select(\"features\", \"Label\")\n",
        "\n",
        "# Convert ke Pandas untuk oversampling dengan SMOTE\n",
        "df_pd = df.toPandas()\n",
        "\n",
        "# 3. Mengatasi imbalance data menggunakan SMOTE\n",
        "X = np.vstack(df_pd[\"features\"].values)\n",
        "y = df_pd[\"Label\"].values\n",
        "smote = SMOTE(random_state=42)\n",
        "X_resampled, y_resampled = smote.fit_resample(X, y)\n",
        "\n",
        "# Convert kembali ke PySpark DataFrame\n",
        "resampled_data = [(list(X_resampled[i]), int(y_resampled[i])) for i in range(len(y_resampled))]\n",
        "resampled_df = spark.createDataFrame(resampled_data, [\"features\", \"Label\"])\n",
        "\n",
        "print(\"Data setelah SMOTE:\")\n",
        "resampled_df.show()\n",
        "\n",
        "# 4. Standarisasi fitur\n",
        "scaler = StandardScaler(inputCol=\"features\", outputCol=\"scaled_features\", withMean=True, withStd=True)\n",
        "scaler_model = scaler.fit(resampled_df)\n",
        "scaled_df = scaler_model.transform(resampled_df)\n",
        "\n",
        "print(\"Data setelah standarisasi:\")\n",
        "scaled_df.show()\n",
        "\n",
        "# --- Modeling ---\n",
        "# Logistic Regression\n",
        "train, test = scaled_df.randomSplit([0.8, 0.2], seed=42)\n",
        "lr = LogisticRegression(featuresCol=\"scaled_features\", labelCol=\"Label\", maxIter=10)\n",
        "model = lr.fit(train)\n",
        "predictions = model.transform(test)\n",
        "\n",
        "print(\"Hasil Prediksi Logistic Regression:\")\n",
        "predictions.show()\n"
      ],
      "metadata": {
        "id": "6n24O4nAFhg2"
      },
      "execution_count": null,
      "outputs": []
    },
    {
      "cell_type": "code",
      "source": [
        "from pyspark.sql import SparkSession\n",
        "from pyspark.sql.functions import col, when, isnan, count\n",
        "from pyspark.ml.feature import VectorAssembler, StandardScaler, StringIndexer, OneHotEncoder\n",
        "from pyspark.ml.classification import LogisticRegression\n",
        "from pyspark.ml.stat import Correlation\n",
        "from pyspark.sql.types import FloatType\n",
        "from pyspark.ml.feature import Imputer\n",
        "from imblearn.over_sampling import SMOTE\n",
        "import pandas as pd\n",
        "import numpy as np\n",
        "\n",
        "# Membuat sesi Spark\n",
        "spark = SparkSession.builder.appName(\"TitanicProcessing\").getOrCreate()\n",
        "\n",
        "# Membaca dataset Titanic\n",
        "file_path = \"path_to_titanic.csv\"  # Ganti dengan path dataset Titanic Anda\n",
        "df = spark.read.csv(file_path, header=True, inferSchema=True)\n",
        "\n",
        "# --- EDA ---\n",
        "print(\"Skema Data:\")\n",
        "df.printSchema()\n",
        "\n",
        "print(\"Contoh Data:\")\n",
        "df.show(5)\n",
        "\n",
        "print(\"Jumlah Missing Values per Kolom:\")\n",
        "df.select([count(when(isnan(c) | col(c).isNull(), c)).alias(c) for c in df.columns]).show()\n",
        "\n",
        "# --- Preprocessing ---\n",
        "# 1. Mengatasi missing values\n",
        "imputer = Imputer(inputCols=[\"Age\", \"Fare\"], outputCols=[\"Age\", \"Fare\"])\n",
        "df = imputer.fit(df).transform(df)\n",
        "\n",
        "# Mengisi missing value kolom Embarked dengan modus\n",
        "df = df.fillna({\"Embarked\": \"S\"})\n",
        "\n",
        "# 2. Mengonversi kolom kategori ke numerik\n",
        "indexer_sex = StringIndexer(inputCol=\"Sex\", outputCol=\"Sex_Index\")\n",
        "indexer_embarked = StringIndexer(inputCol=\"Embarked\", outputCol=\"Embarked_Index\")\n",
        "df = indexer_sex.fit(df).transform(df)\n",
        "df = indexer_embarked.fit(df).transform(df)\n",
        "\n",
        "# 3. One-hot encoding kolom kategori\n",
        "encoder = OneHotEncoder(inputCols=[\"Sex_Index\", \"Embarked_Index\"], outputCols=[\"Sex_Encoded\", \"Embarked_Encoded\"])\n",
        "df = encoder.fit(df).transform(df)\n",
        "\n",
        "# 4. Menggabungkan fitur\n",
        "feature_cols = [\"Pclass\", \"Age\", \"Fare\", \"SibSp\", \"Parch\", \"Sex_Encoded\", \"Embarked_Encoded\"]\n",
        "assembler = VectorAssembler(inputCols=feature_cols, outputCol=\"features\")\n",
        "df = assembler.transform(df).select(\"features\", \"Survived\")\n",
        "\n",
        "# 5. Mengatasi data imbalance dengan SMOTE\n",
        "df_pd = df.toPandas()\n",
        "X = np.vstack(df_pd[\"features\"].values)\n",
        "y = df_pd[\"Survived\"].values\n",
        "\n",
        "smote = SMOTE(random_state=42)\n",
        "X_resampled, y_resampled = smote.fit_resample(X, y)\n",
        "\n",
        "# Convert kembali ke PySpark DataFrame\n",
        "resampled_data = [(list(X_resampled[i]), int(y_resampled[i])) for i in range(len(y_resampled))]\n",
        "resampled_df = spark.createDataFrame(resampled_data, [\"features\", \"Survived\"])\n",
        "\n",
        "# 6. Standarisasi data\n",
        "scaler = StandardScaler(inputCol=\"features\", outputCol=\"scaled_features\", withMean=True, withStd=True)\n",
        "scaler_model = scaler.fit(resampled_df)\n",
        "scaled_df = scaler_model.transform(resampled_df)\n",
        "\n",
        "# --- Modeling ---\n",
        "# Membagi data menjadi train dan test\n",
        "train, test = scaled_df.randomSplit([0.8, 0.2], seed=42)\n",
        "\n",
        "# Logistic Regression\n",
        "lr = LogisticRegression(featuresCol=\"scaled_features\", labelCol=\"Survived\", maxIter=10)\n",
        "model = lr.fit(train)\n",
        "predictions = model.transform(test)\n",
        "\n",
        "# --- Evaluasi ---\n",
        "print(\"Hasil Prediksi Logistic Regression:\")\n",
        "predictions.select(\"scaled_features\", \"Survived\", \"prediction\").show()\n"
      ],
      "metadata": {
        "id": "IBzee_69FcjL"
      },
      "execution_count": null,
      "outputs": []
    },
    {
      "cell_type": "code",
      "source": [
        "from pyspark.ml.classification import RandomForestClassifier, GBTClassifier\n",
        "from pyspark.ml.evaluation import MulticlassClassificationEvaluator\n",
        "\n",
        "# --- Random Forest Classifier ---\n",
        "print(\"Model Random Forest Classifier:\")\n",
        "rf = RandomForestClassifier(featuresCol=\"scaled_features\", labelCol=\"Survived\", numTrees=100)\n",
        "rf_model = rf.fit(train)\n",
        "rf_predictions = rf_model.transform(test)\n",
        "\n",
        "# Evaluasi Random Forest\n",
        "evaluator = MulticlassClassificationEvaluator(labelCol=\"Survived\", predictionCol=\"prediction\", metricName=\"accuracy\")\n",
        "rf_accuracy = evaluator.evaluate(rf_predictions)\n",
        "print(f\"Random Forest Accuracy: {rf_accuracy:.2f}\")\n",
        "\n",
        "rf_predictions.select(\"scaled_features\", \"Survived\", \"prediction\").show()\n",
        "\n",
        "# --- Gradient Boosting Classifier ---\n",
        "print(\"\\nModel Gradient Boosting Classifier:\")\n",
        "gbt = GBTClassifier(featuresCol=\"scaled_features\", labelCol=\"Survived\", maxIter=50)\n",
        "gbt_model = gbt.fit(train)\n",
        "gbt_predictions = gbt_model.transform(test)\n",
        "\n",
        "# Evaluasi Gradient Boosting\n",
        "gbt_accuracy = evaluator.evaluate(gbt_predictions)\n",
        "print(f\"Gradient Boosting Accuracy: {gbt_accuracy:.2f}\")\n",
        "\n",
        "gbt_predictions.select(\"scaled_features\", \"Survived\", \"prediction\").show()"
      ],
      "metadata": {
        "id": "7_W7uSv_FUgV"
      },
      "execution_count": null,
      "outputs": []
    },
    {
      "cell_type": "code",
      "execution_count": null,
      "metadata": {
        "id": "mrbWYm4YFMY4"
      },
      "outputs": [],
      "source": [
        "from pyspark.ml.clustering import KMeans\n",
        "from pyspark.sql import SparkSession\n",
        "from pyspark.ml.feature import VectorAssembler, StandardScaler\n",
        "from pyspark.ml.evaluation import ClusteringEvaluator\n",
        "\n",
        "# Membuat sesi Spark\n",
        "spark = SparkSession.builder.appName(\"ClusteringIris\").getOrCreate()\n",
        "\n",
        "# Membaca dataset Iris\n",
        "file_path = \"path_to_iris.csv\"  # Ganti dengan path dataset Iris Anda\n",
        "df = spark.read.csv(file_path, header=True, inferSchema=True)\n",
        "\n",
        "# --- EDA ---\n",
        "print(\"Skema Data:\")\n",
        "df.printSchema()\n",
        "\n",
        "print(\"Contoh Data:\")\n",
        "df.show(5)\n",
        "\n",
        "# --- Preprocessing ---\n",
        "# Menggabungkan fitur menjadi satu vektor\n",
        "feature_cols = [\"sepal_length\", \"sepal_width\", \"petal_length\", \"petal_width\"]\n",
        "assembler = VectorAssembler(inputCols=feature_cols, outputCol=\"features\")\n",
        "df = assembler.transform(df)\n",
        "\n",
        "# Standarisasi data\n",
        "scaler = StandardScaler(inputCol=\"features\", outputCol=\"scaled_features\", withMean=True, withStd=True)\n",
        "scaler_model = scaler.fit(df)\n",
        "scaled_df = scaler_model.transform(df)\n",
        "\n",
        "# --- Clustering ---\n",
        "# Menentukan jumlah cluster (k=3 untuk dataset Iris)\n",
        "kmeans = KMeans(featuresCol=\"scaled_features\", predictionCol=\"cluster\", k=3, seed=42)\n",
        "kmeans_model = kmeans.fit(scaled_df)\n",
        "clustered_df = kmeans_model.transform(scaled_df)\n",
        "\n",
        "# Menampilkan hasil clustering\n",
        "print(\"Hasil Clustering:\")\n",
        "clustered_df.select(\"scaled_features\", \"cluster\").show()\n",
        "\n",
        "# --- Evaluasi ---\n",
        "# Menggunakan Silhouette Score untuk evaluasi\n",
        "evaluator = ClusteringEvaluator(featuresCol=\"scaled_features\", predictionCol=\"cluster\", metricName=\"silhouette\")\n",
        "silhouette = evaluator.evaluate(clustered_df)\n",
        "print(f\"Silhouette Score: {silhouette:.2f}\")\n",
        "\n",
        "# Menampilkan pusat cluster\n",
        "print(\"Pusat Cluster:\")\n",
        "for i, center in enumerate(kmeans_model.clusterCenters()):\n",
        "    print(f\"Cluster {i}: {center}\")\n"
      ]
    }
  ]
}